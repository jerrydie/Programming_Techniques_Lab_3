{
 "cells": [
  {
   "cell_type": "markdown",
   "metadata": {},
   "source": [
    "# Лабораторная работа № 3\n",
    "## Вариант 24, Щеглова П.Н.\n",
    "Массив данных с информацией о постояльцах некоторой гостиницы: ФИО, занимаемый номер, дата приезда, дата отъезда, сумма оплаты проживания (сравнение по ключевому полю – ФИО)\n",
    "\n",
    "Сортировка наиболее эффективным методом из Лабораторной № 1 (из реализованных) - быстрая сортировка"
   ]
  },
  {
   "cell_type": "code",
   "execution_count": 65,
   "metadata": {},
   "outputs": [],
   "source": [
    "\"\"\"@package docstring\n",
    "In this module class and its methods are created.\n",
    "\"\"\"\n",
    "\n",
    "import numpy as np\n",
    "\n",
    "\n",
    "class Guest:\n",
    "    \"\"\"class Guest consists of a name, room number, check-in and check-out dates in April 2020 \n",
    "    and amount to pay of the guest in the hotel.\n",
    " \n",
    "    There are methods to create, compare and represent the Guests.\n",
    "    \"\"\"\n",
    "    def __init__(self, Name, room, check_in, check_out, amount, hash_func):\n",
    "        \"\"\"The constructor.\"\"\"\n",
    "        self.Name = Name\n",
    "        self.room = room\n",
    "        self.check_in = check_in\n",
    "        self.check_out = check_out\n",
    "        self.amount = amount\n",
    "        self.hash = hash_func(Name)\n",
    "        \n",
    "    def __lt__(self, other): \n",
    "        \"\"\"Comparing Guests by name. Operator <\"\"\"\n",
    "        if self.Name < other.Name:\n",
    "            return True\n",
    "        return False\n",
    "    def __gt__(self, other): \n",
    "        \"\"\"Comparing Guests by name. Operator <\"\"\"\n",
    "        if self.Name > other.Name:\n",
    "            return True\n",
    "        return False\n",
    "    def __le__(self, other): \n",
    "        \"\"\"Comparing Guests by name. Operator <=\"\"\"\n",
    "        if self.Name <= other.Name:\n",
    "            return True\n",
    "        return False\n",
    "    def __ge__(self, other): \n",
    "        \"\"\"Comparing Guests by name. Operator >=\"\"\"\n",
    "        if self.Name >= other.Name:\n",
    "            return True\n",
    "        return False\n",
    "    def __eq__(self, other): \n",
    "        \"\"\"Comparing Guests by name. Operator ==\"\"\"\n",
    "        if self.Name == other.Name:\n",
    "            return True\n",
    "        return False\n",
    "                    \n",
    "    def __repr__(self):\n",
    "        \"\"\"The representer.\"\"\"\n",
    "        return \"Guest {i} stays in room #{j} from {k} to {l} April\\n\".format(i=self.Name,\n",
    "                                                                            j=self.room,\n",
    "                                                                            k=self.check_in,\n",
    "                                                                            l=self.check_out)"
   ]
  },
  {
   "cell_type": "code",
   "execution_count": 61,
   "metadata": {},
   "outputs": [],
   "source": [
    "\"\"\"@package docstring\n",
    "In this module two classes and its methods are created.\n",
    "\"\"\"\n",
    "class Node:\n",
    "    def __init__(self, value = None, next_node = None):\n",
    "        \"\"\"The constructor.\"\"\"\n",
    "        self.value = value\n",
    "        self.next = next_node\n",
    "        \n",
    "class LinkedList:\n",
    "    \"\"\"List of Nodes.\"\"\"\n",
    "    def __init__(self, x = None):\n",
    "        \"\"\"The constructor.\"\"\"\n",
    "        if x != None:\n",
    "            self.first = Node (x, None)\n",
    "            self.last = Node(x, None)\n",
    "            self.length = 1\n",
    "        else:\n",
    "            self.first =None\n",
    "            self.last = None\n",
    "            self.length = 0\n",
    "            \n",
    "    def __str__(self):\n",
    "        \"\"\"String representation.\"\"\"\n",
    "        if self.first != None:\n",
    "            current = self.first\n",
    "            out = 'LinkedList [\\n' + str(current.value) + '\\n'\n",
    "            while current.next != None:\n",
    "                current = current.next\n",
    "                out += str(current.value) + '\\n'\n",
    "            return out + ']'\n",
    "        return 'LinkedList []'\n",
    "    \n",
    "    def clear(self):\n",
    "        self.__init__()\n",
    "        \n",
    "    def add(self, x):\n",
    "        \"\"\"The mutator - add value in the end of the list.\"\"\"\n",
    "        self.length += 1\n",
    "        if self.first == None:\n",
    "            self.last = self.first = Node (x, None)\n",
    "        else:\n",
    "            self.last.next = Node (x, None)\n",
    "            self.last = Node (x, None)\n",
    "            \n",
    "    def push(self, x):\n",
    "        \"\"\"The mutator - add value in the beginning of the list.\"\"\"\n",
    "        self.length += 1\n",
    "        if self.first == None:\n",
    "            self.last = self.first = Node (x, None)\n",
    "        else:\n",
    "            self.first = Node (x, self.first)\n",
    "            \n",
    "    def insert_n(self, n, x):\n",
    "        \"\"\"The mutator - add value in certain position of the list.\"\"\"\n",
    "        if self.first == None:\n",
    "            self.last = self.first = Node (x, None)\n",
    "            return\n",
    "        if i == 0:\n",
    "            self.first = Node (x, self.first)\n",
    "            return\n",
    "        current = self.first\n",
    "        count = 0\n",
    "        while current != None:\n",
    "            count += 1\n",
    "            if count == i:\n",
    "                current.next = Node(x, current.next)\n",
    "                if current.next.next == None:\n",
    "                    self.last = current.next\n",
    "                break\n",
    "            current = current.next"
   ]
  },
  {
   "cell_type": "code",
   "execution_count": 62,
   "metadata": {},
   "outputs": [],
   "source": [
    "\"\"\"@package docstring\n",
    "In this module simple searching algorithm is defined.\n",
    "\"\"\"\n",
    "p_const = 59\n",
    "# сначала вычислим все нужные степени p_const, начиная с первой, и сохраним в массив\n",
    "Powers = [p_const]\n",
    "for i in range(40):\n",
    "    Powers.append(Powers[-1]*p_const)\n",
    "\n",
    "def simple_hash(key_str):\n",
    "    h = 0\n",
    "    for i in range(len(key_str)):\n",
    "        h += (ord(key_str[i]) - ord('а') +1)*Powers[i]\n",
    "    return h"
   ]
  },
  {
   "cell_type": "code",
   "execution_count": 67,
   "metadata": {},
   "outputs": [],
   "source": [
    "\"\"\"@package docstring\n",
    "In this module more complex searching algorithm is defined - RS.\n",
    "\"\"\"\n",
    "def RSHash(key_str):\n",
    "    b = 378551\n",
    "    a = 63689\n",
    "    h = 0\n",
    "    for i in range(len(key_str)):\n",
    "        h = h * a + ord(key_str[i])\n",
    "        a = a * b\n",
    "    return h\n"
   ]
  },
  {
   "cell_type": "code",
   "execution_count": 69,
   "metadata": {},
   "outputs": [],
   "source": [
    "\"\"\"@package docstring\n",
    "In this module data is imported from txt-files and saved in series of class Guest.\n",
    "\"\"\"\n",
    "import pandas as pd\n",
    "\n",
    "lists = ['list {a}.txt'.format(a=num) for num in range(1,11)]\n",
    "inputs = [pd.read_csv(a, header = None, sep='\\t') for a in lists]\n",
    "\n",
    "\n",
    "def to_Guest (df_list, hash_func):\n",
    "    \"\"\"Function provides the conversion from pandas.DataFrame dtype=string to pandas.Series dtype=object.Guest.\"\"\"\n",
    "    list_guest = pd.Series(np.empty((len(df_list))))\n",
    "    for i in range(len(df_list)):\n",
    "        Name = df_list[0][i]\n",
    "        room = int(df_list[1][i])\n",
    "        check_in = int(df_list[2][i])\n",
    "        check_out = int(df_list[3][i])\n",
    "        amount = int(df_list[4][i])\n",
    "        list_guest.iloc[[i]] = Guest(Name, room, check_in, check_out, amount, hash_func)\n",
    "    return list_guest\n"
   ]
  },
  {
   "cell_type": "code",
   "execution_count": 150,
   "metadata": {},
   "outputs": [],
   "source": [
    "\"\"\"@package docstring\n",
    "In this module data is saved in a list of linked lists (hash table) by hash indexation <key, object=Guest>.\n",
    "\"\"\"\n",
    "def hash_table(list_guest):\n",
    "    \"\"\"\n",
    "* @list_guest - массив объектов класса Guest.\n",
    "* @collisions - переменная для хранения числа коллизий.\n",
    "* @hash_table - хэш-таблица на основе хэшей и соответствующих индексов массива объектов.\n",
    "* @list_guest[i].hash - i-тый хэш, могут повторяться.\n",
    "* @hash_i - индекс для хэша в хэш-таблице.\n",
    "    \"\"\"\n",
    "    collisions = 0\n",
    "    hash_table = [ LinkedList() for i in range(len(list_guest))]\n",
    "    for i in range(len(list_guest)):\n",
    "        hash_i = (list_guest[i].hash)%(len(hash_table))\n",
    "        while hash_table[hash_i].length != 0 and hash_table[hash_i].last.value[0] != list_guest[i].hash:\n",
    "            \"\"\"Случай, если по заданному ключу уже помещен объект и его хэш не совпадает с хэшем вставляемого объекта.\"\"\"\n",
    "            hash_i = (hash_i + 1)%(len(list_guest))\n",
    "        \"\"\"Ищем в выбранном связном списке совпадение ключевого поля ФИО.\"\"\"\n",
    "        found = True\n",
    "        current = hash_table[hash_i].first\n",
    "        for i in range(hash_table[hash_i].length):\n",
    "            found = False\n",
    "            if not(current.value[1] == list_guest[i]):\n",
    "                found = True\n",
    "                break\n",
    "            current = current.next\n",
    "        if not(found):\n",
    "            collisions += 1\n",
    "        (hash_table[hash_i]).add((list_guest[i].hash,list_guest[i]))\n",
    "    return hash_table, collisions\n"
   ]
  },
  {
   "cell_type": "code",
   "execution_count": 71,
   "metadata": {},
   "outputs": [],
   "source": [
    "\"\"\"@package docstring\n",
    "In this module data is saved in a dictionary<key, object=Guest>.\n",
    "\"\"\"\n",
    "def to_dict(list_guest):\n",
    "    \"\"\"\n",
    "* @list_guest - массив объектов класса Guest.\n",
    "* @list_dict - словарь, в который переписывается входящий массив.\n",
    "* @list_guest[i].Name - i-тое ФИО, могут повторяться, ключ словаря.\n",
    "    \"\"\"\n",
    "    list_dict = dict()\n",
    "    for i in range(len(list_guest)):\n",
    "        if list_guest[i].Name in list_dict:\n",
    "            \"\"\"Случай, если по заданному ключу уже помещен объект.\"\"\"\n",
    "            (list_dict[list_guest[i].Name]).append(list_guest[i])\n",
    "        else:\n",
    "            list_dict[list_guest[i].Name] = [list_guest[i]]\n",
    "    return list_dict"
   ]
  },
  {
   "cell_type": "code",
   "execution_count": 72,
   "metadata": {},
   "outputs": [],
   "source": [
    "\"\"\"@package docstring\n",
    "In this module quick sorting algorithm is formed as a functional module. Const function.\n",
    "Input-lists are sorted by Name.\n",
    "\"\"\"\n",
    "import random\n",
    "\n",
    "def quicksort(nums):\n",
    "    if len(nums) <= 1:\n",
    "        return nums\n",
    "    else:\n",
    "        q = random.choice(nums)\n",
    "        s_nums = []\n",
    "        b_nums = []\n",
    "        e_nums = []\n",
    "        for n in nums:\n",
    "            if n < q:\n",
    "                s_nums.append(n)\n",
    "            elif n > q:\n",
    "                b_nums.append(n)\n",
    "            else:\n",
    "                e_nums.append(n)\n",
    "        return quicksort(s_nums) + e_nums + quicksort(b_nums)"
   ]
  },
  {
   "cell_type": "code",
   "execution_count": 79,
   "metadata": {},
   "outputs": [],
   "source": [
    "\"\"\"@package docstring\n",
    "In this module linear searching algorithm is formed as a functional module. Const function.\n",
    "\n",
    "\n",
    "* Функция линейного поиска элемента в массиве по заданному ключу.\n",
    "* @data - массив, в котором производится поиск. Необязательно отсортированный.\n",
    "* @key - строка, используемая как ключ для поиска элемента.\n",
    "* @return массив индексов, по которым располагается найденный элемент.\n",
    "* @return -1 в случае, если элемент не найден.\n",
    "\"\"\"\n",
    "\n",
    "def l_search(data, key):\n",
    "    key=Guest(key,0,0,0,0,simple_hash)\n",
    "    Indexes = []\n",
    "    for i in range(len(data)):\n",
    "        if data[i] == key:\n",
    "            Indexes.append(i)\n",
    "    if len(Indexes) > 0:\n",
    "        return Indexes\n",
    "    return -1"
   ]
  },
  {
   "cell_type": "code",
   "execution_count": 80,
   "metadata": {},
   "outputs": [],
   "source": [
    "\"\"\"@package docstring\n",
    "In this module binary searching algorithm is formed as a functional module. Const function.\n",
    "\n",
    "* Функция бинарного поиска элемента в отсортированном массиве по заданному ключу.\n",
    "* @data - отсортированный массив, в котором производится поиск\n",
    "* @Key - строка, используемая как ключ для поиска элемента.\n",
    "* @left - левая граница области поиска.\n",
    "* @right - правая граница области поиска.\n",
    "* @return массив индексов, по которым располагается найденный элемент.\n",
    "* @return -1 в случае, если элемент не найден.\n",
    "\"\"\"\n",
    "\n",
    "def b_search(data, Key):\n",
    "    Key=Guest(Key,0,0,0,0,simple_hash)\n",
    "    mid = len(data) // 2\n",
    "    left = 0\n",
    "    right = len(data) - 1\n",
    "    while not(data[mid] == Key) and left <= right:\n",
    "        if Key > data[mid]:\n",
    "            left = mid + 1\n",
    "        else:\n",
    "            right = mid - 1\n",
    "        mid = (left + right) // 2\n",
    "    if left > right:\n",
    "        return -1\n",
    "    else:\n",
    "        Indexes = [mid]\n",
    "        i = mid-1\n",
    "        while i>0 and data[i]==Key:\n",
    "            Indexes.append(i)\n",
    "            i -= 1\n",
    "        i = mid+1\n",
    "        while i<len(data) and data[i]==Key:\n",
    "            Indexes.append(i)\n",
    "            i+=1\n",
    "        return Indexes"
   ]
  },
  {
   "cell_type": "code",
   "execution_count": 127,
   "metadata": {},
   "outputs": [],
   "source": [
    "\"\"\"@package docstring\n",
    "In this module searching using hash-table is formed as a functional module. Const function. Hash function is used.\n",
    "\"\"\"\n",
    "def l_search_by_key(hash_tab, key, hash_func):\n",
    "    \"\"\"\n",
    "* @hash_tab - хэш-таблица на основе хэшей и соответствующих индексов массива объектов.\n",
    "* @key -ключ-ФИО.\n",
    "* @hash_func - используемая функция хэширования ключевого поля.\n",
    "    \"\"\"\n",
    "    index = hash_func(key)%(len(hash_tab))\n",
    "    current = hash_tab[index].first\n",
    "    guests = []\n",
    "    while len(guests) == 0:\n",
    "        while True:\n",
    "            if current.value[0] == hash_func(key):\n",
    "                guests.append(current.value[1])\n",
    "            current = current.next\n",
    "            if current == None:\n",
    "                break\n",
    "        index = (index + 1)%(len(hash_tab))\n",
    "        current = hash_tab[index].first\n",
    "    return guests"
   ]
  },
  {
   "cell_type": "code",
   "execution_count": 125,
   "metadata": {},
   "outputs": [],
   "source": [
    "\"\"\"@package docstring\n",
    "In this module searching using hash-table is formed as a functional module. Const function. Hash function is not used.\n",
    "\"\"\"\n",
    "def l_search_by_hash(hash_tab, hash_value):\n",
    "    \"\"\"\n",
    "* @hash_tab - хэш-таблица на основе хэшей и соответствующих объектов массива.\n",
    "* @hash_value - хэш ключевого поля.\n",
    "    \"\"\"\n",
    "    index = hash_value%(len(hash_tab))\n",
    "    current = hash_tab[index].first\n",
    "    \n",
    "    guests = []\n",
    "    while len(guests) == 0:\n",
    "        while True:\n",
    "            if current.value[0] == hash_value:\n",
    "                guests.append(current.value[1])\n",
    "            current = current.next\n",
    "            if current == None:\n",
    "                break\n",
    "        index = (index + 1)%(len(hash_tab))\n",
    "        current = hash_tab[index].first\n",
    "    return guests"
   ]
  },
  {
   "cell_type": "code",
   "execution_count": 82,
   "metadata": {},
   "outputs": [],
   "source": [
    "\"\"\"@package docstring\n",
    "In this module all algorithms are timed on the inputs.\n",
    "\"\"\"\n",
    "import timeit\n",
    "import time\n",
    "\n",
    "def searchsort_time(data, key, search_alg):\n",
    "    \"\"\"\n",
    "* @data - массив, в котором производится поиск. Необязательно отсортированный.\n",
    "* @key - строка, используемая как ключ для поиска элемента.\n",
    "* @search_alg - алгоритм поиска.\n",
    "* @start - время начала замера времени.\n",
    "* @end - время конца замера времени.\n",
    "* @repeats - количество повторений замера времени.\n",
    "* @total_time - суммарное время выполнения всех повторений.\n",
    "* @return среднее замеров времени.\n",
    "    \"\"\"\n",
    "    repeats = 10\n",
    "    total_time = 0\n",
    "    for repeat in range(repeats):\n",
    "        start = time.clock()\n",
    "        search_alg(quicksort(data), key)\n",
    "        end = time.clock()\n",
    "        total_time += abs(end - start)\n",
    "    return total_time/repeats\n",
    "\n",
    "def search_hash_time(data, key, search_alg, hash_func):\n",
    "    \"\"\"\n",
    "* @data - хэш-таблица, в которой производится поиск.\n",
    "* @key - строка, используемая как ключ для поиска элемента.\n",
    "* @search_alg - алгоритм поиска.\n",
    "* @hash_func - используемая функция хэширования ключевого поля.\n",
    "* @start - время начала замера времени.\n",
    "* @end - время конца замера времени.\n",
    "* @repeats - количество повторений замера времени.\n",
    "* @total_time - суммарное время выполнения всех повторений.\n",
    "* @return среднее замеров времени.\n",
    "    \"\"\"\n",
    "    repeats = 10\n",
    "    total_time = 0\n",
    "    for repeat in range(repeats):\n",
    "        start = time.clock()\n",
    "        search_alg(data, key, hash_func)\n",
    "        end = time.clock()\n",
    "        total_time += abs(end - start)\n",
    "    return total_time/repeats\n",
    "\n",
    "def search_time(data_sorted, key, search_alg):\n",
    "    \"\"\"\n",
    "* @data_sorted - массив, в котором производится поиск. Отсортированный.\n",
    "* @key - строка, используемая как ключ для поиска элемента.\n",
    "* @search_alg - алгоритм поиска.\n",
    "* @start - время начала замера времени.\n",
    "* @end - время конца замера времени.\n",
    "* @repeats - количество повторений замера времени.\n",
    "* @total_time - суммарное время выполнения всех повторений.\n",
    "* @return среднее замеров времени.\n",
    "    \"\"\"\n",
    "    repeats = 10\n",
    "    total_time = 0\n",
    "    for repeat in range(repeats):\n",
    "        start = time.clock()\n",
    "        search_alg(data_sorted, key)\n",
    "        end = time.clock()\n",
    "        total_time += abs(end - start)\n",
    "    return total_time/repeats\n",
    "\n",
    "def dict_search_time(data_dict, key):\n",
    "    \"\"\"\n",
    "* @data_dict - массив, в котором производится поиск. Ассоциативный.\n",
    "* @key - строка, используемая как ключ для поиска элемента.\n",
    "* @start - время начала замера времени.\n",
    "* @end - время конца замера времени.\n",
    "* @repeats - количество повторений замера времени.\n",
    "* @total_time - суммарное время выполнения всех повторений.\n",
    "* @return среднее замеров времени.\n",
    "    \"\"\"\n",
    "    repeats = 10\n",
    "    total_time = 0\n",
    "    for repeat in range(repeats):\n",
    "        start = time.clock()\n",
    "        data_dict.get(key)\n",
    "        end = time.clock()\n",
    "        total_time += abs(end - start)\n",
    "    return total_time/repeats\n",
    "\n",
    "inputs_g_simple = [to_Guest(inputs[i], simple_hash) for i in range(len(inputs))]\n",
    "inputs_g_RS = [to_Guest(inputs[i], RSHash) for i in range(len(inputs))]\n",
    "inputs_sorted = list(map(quicksort, inputs_g_simple))\n",
    "inputs_dict = list(map(to_dict, inputs_g_simple))\n",
    "keys = ['Бавыкина Марина Павловна', 'Нугманов Артур Маратович', 'Кочинян Карлен Норикович', 'Слабуха Мария Константиновна',\n",
    "       'Седых Иван Дмитриевич', 'Хромушкин Александр Алексеевич', 'Мазур Дарья Александровна', 'Антонина Раужева',\n",
    "       'Женя Сибилькова', 'Сайрам Алешичев']\n",
    "    "
   ]
  },
  {
   "cell_type": "code",
   "execution_count": 143,
   "metadata": {},
   "outputs": [
    {
     "name": "stderr",
     "output_type": "stream",
     "text": [
      "C:\\Users\\polin\\Anaconda3\\lib\\site-packages\\ipykernel_launcher.py:70: DeprecationWarning: time.clock has been deprecated in Python 3.3 and will be removed from Python 3.8: use time.perf_counter or time.process_time instead\n",
      "C:\\Users\\polin\\Anaconda3\\lib\\site-packages\\ipykernel_launcher.py:72: DeprecationWarning: time.clock has been deprecated in Python 3.3 and will be removed from Python 3.8: use time.perf_counter or time.process_time instead\n",
      "C:\\Users\\polin\\Anaconda3\\lib\\site-packages\\ipykernel_launcher.py:29: DeprecationWarning: time.clock has been deprecated in Python 3.3 and will be removed from Python 3.8: use time.perf_counter or time.process_time instead\n",
      "C:\\Users\\polin\\Anaconda3\\lib\\site-packages\\ipykernel_launcher.py:31: DeprecationWarning: time.clock has been deprecated in Python 3.3 and will be removed from Python 3.8: use time.perf_counter or time.process_time instead\n",
      "C:\\Users\\polin\\Anaconda3\\lib\\site-packages\\ipykernel_launcher.py:89: DeprecationWarning: time.clock has been deprecated in Python 3.3 and will be removed from Python 3.8: use time.perf_counter or time.process_time instead\n",
      "C:\\Users\\polin\\Anaconda3\\lib\\site-packages\\ipykernel_launcher.py:91: DeprecationWarning: time.clock has been deprecated in Python 3.3 and will be removed from Python 3.8: use time.perf_counter or time.process_time instead\n",
      "C:\\Users\\polin\\Anaconda3\\lib\\site-packages\\ipykernel_launcher.py:50: DeprecationWarning: time.clock has been deprecated in Python 3.3 and will be removed from Python 3.8: use time.perf_counter or time.process_time instead\n",
      "C:\\Users\\polin\\Anaconda3\\lib\\site-packages\\ipykernel_launcher.py:52: DeprecationWarning: time.clock has been deprecated in Python 3.3 and will be removed from Python 3.8: use time.perf_counter or time.process_time instead\n"
     ]
    }
   ],
   "source": [
    "binarsort_time = []\n",
    "binar_time = []\n",
    "linear_time = []\n",
    "dict_time = []\n",
    "\n",
    "for i in range(len(keys)):\n",
    "    linear_time.append(search_time(inputs_g_simple[i], keys[i], l_search))\n",
    "    binar_time.append(search_time(inputs_sorted[i], keys[i], b_search))\n",
    "    binarsort_time.append(searchsort_time(inputs_g_simple[i], keys[i], b_search))\n",
    "    dict_time.append(dict_search_time(inputs_dict[i], keys[i]))"
   ]
  },
  {
   "cell_type": "code",
   "execution_count": 151,
   "metadata": {},
   "outputs": [
    {
     "name": "stderr",
     "output_type": "stream",
     "text": [
      "C:\\Users\\polin\\Anaconda3\\lib\\site-packages\\ipykernel_launcher.py:50: DeprecationWarning: time.clock has been deprecated in Python 3.3 and will be removed from Python 3.8: use time.perf_counter or time.process_time instead\n",
      "C:\\Users\\polin\\Anaconda3\\lib\\site-packages\\ipykernel_launcher.py:52: DeprecationWarning: time.clock has been deprecated in Python 3.3 and will be removed from Python 3.8: use time.perf_counter or time.process_time instead\n",
      "C:\\Users\\polin\\Anaconda3\\lib\\site-packages\\ipykernel_launcher.py:70: DeprecationWarning: time.clock has been deprecated in Python 3.3 and will be removed from Python 3.8: use time.perf_counter or time.process_time instead\n",
      "C:\\Users\\polin\\Anaconda3\\lib\\site-packages\\ipykernel_launcher.py:72: DeprecationWarning: time.clock has been deprecated in Python 3.3 and will be removed from Python 3.8: use time.perf_counter or time.process_time instead\n"
     ]
    }
   ],
   "source": [
    "RShash_time_by_key = []\n",
    "RShash_time_by_hash = []\n",
    "simple_time_by_key = []\n",
    "simple_time_by_hash = []\n",
    "collisions_RS = [0 for a in range(10)]\n",
    "collisions_simple = [0 for a in range(10)]\n",
    "\n",
    "for i in range(len(keys)):    \n",
    "    hash_tab_RS, collisions_RS[i] = hash_table(inputs_g_RS[i])\n",
    "    hash_tab_simple, collisions_simple[i] = hash_table(inputs_g_simple[i])\n",
    "    \n",
    "    RShash_time_by_key.append(search_hash_time(hash_tab_RS, keys[i], l_search_by_key, RSHash))\n",
    "    RShash_time_by_hash.append(search_time(hash_tab_RS, RSHash(keys[i]), l_search_by_hash))\n",
    "    simple_time_by_key.append(search_hash_time( hash_tab_simple, keys[i], l_search_by_key, simple_hash))\n",
    "    simple_time_by_hash.append(search_time( hash_tab_simple, simple_hash(keys[i]), l_search_by_hash))"
   ]
  },
  {
   "cell_type": "code",
   "execution_count": 152,
   "metadata": {},
   "outputs": [
    {
     "data": {
      "image/png": "[encoded data removed]",
      "text/plain": [
       "<Figure size 432x288 with 1 Axes>"
      ]
     },
     "metadata": {
      "needs_background": "light"
     },
     "output_type": "display_data"
    }
   ],
   "source": [
    "\"\"\"@package docstring\n",
    "In this module graph is created to visualy compare the speed difference between searching algorithms. Log scale.\n",
    "\"\"\"\n",
    "import matplotlib.pyplot as plt\n",
    "dims = list(map(len, [list3_guest,list1_guest, list2_guest, list4_guest, list5_guest, list6_guest, list7_guest , list8_guest, list9_guest, list10_guest]))\n",
    "fig = plt.figure()\n",
    "ax = fig.add_subplot(1,1, 1)\n",
    "\n",
    "plt.plot(dims, RShash_time_by_key, '--g', lw=1, alpha=0.6, label='RS key')\n",
    "plt.plot(dims, RShash_time_by_hash, '-.r', lw=2, alpha=0.8, label='RS hash')\n",
    "plt.plot(dims, simple_time_by_key, ':b', lw=2, alpha=0.8, label='simple key')\n",
    "plt.plot(dims, simple_time_by_hash, 'g', lw=2, alpha=0.8, label='simple hash')\n",
    "plt.legend(loc='upper left', frameon=True)\n",
    "plt.xlabel('series\\' dimensions')\n",
    "plt.ylabel('searching time, µs')\n",
    "ax.set_yscale('log')\n",
    "plt.show()"
   ]
  },
  {
   "cell_type": "code",
   "execution_count": 153,
   "metadata": {},
   "outputs": [
    {
     "data": {
      "image/png": "[encoded data removed]",
      "text/plain": [
       "<Figure size 432x288 with 1 Axes>"
      ]
     },
     "metadata": {
      "needs_background": "light"
     },
     "output_type": "display_data"
    }
   ],
   "source": [
    "\"\"\"@package docstring\n",
    "In this module graph is created to visualy compare the speed difference between searching algorithms. Log scale.\n",
    "\"\"\"\n",
    "import matplotlib.pyplot as plt\n",
    "dims = list(map(len, [list3_guest,list1_guest, list2_guest, list4_guest, list5_guest, list6_guest, list7_guest , list8_guest, list9_guest, list10_guest]))\n",
    "fig = plt.figure()\n",
    "ax = fig.add_subplot(1,1, 1)\n",
    "\n",
    "plt.plot(dims, linear_time, ':g', lw=1, alpha=0.6, label='linear')\n",
    "plt.plot(dims, binar_time, '--r', lw=2, alpha=0.8, label='binar')\n",
    "plt.plot(dims, binarsort_time, '-.b', lw=2, alpha=0.8, label='sort+binar')\n",
    "plt.plot(dims, dict_time, '-.g', lw=2, alpha=0.8, label='dict')\n",
    "plt.plot(dims, RShash_time_by_key, '--g', lw=1, alpha=0.6, label='RS key')\n",
    "plt.plot(dims, RShash_time_by_hash, '-.r', lw=2, alpha=0.8, label='RS hash')\n",
    "plt.plot(dims, simple_time_by_key, ':b', lw=2, alpha=0.8, label='simple key')\n",
    "plt.plot(dims, simple_time_by_hash, 'g', lw=2, alpha=0.8, label='simple hash')\n",
    "plt.legend(loc='upper left', frameon=True)\n",
    "plt.xlabel('series\\' dimensions')\n",
    "plt.ylabel('searching time, µs')\n",
    "ax.set_yscale('log')\n",
    "plt.show()"
   ]
  },
  {
   "cell_type": "code",
   "execution_count": 154,
   "metadata": {},
   "outputs": [
    {
     "data": {
      "image/png": "[encoded data removed]",
      "text/plain": [
       "<Figure size 432x288 with 1 Axes>"
      ]
     },
     "metadata": {
      "needs_background": "light"
     },
     "output_type": "display_data"
    }
   ],
   "source": [
    "\"\"\"@package docstring\n",
    "In this module graph is created to visualy compare the collision difference between hash functions. Log scale.\n",
    "\"\"\"\n",
    "import matplotlib.pyplot as plt\n",
    "dims = list(map(len, [list3_guest,list1_guest, list2_guest, list4_guest, list5_guest, list6_guest, list7_guest , list8_guest, list9_guest, list10_guest]))\n",
    "fig = plt.figure()\n",
    "ax = fig.add_subplot(1,1, 1)\n",
    "\n",
    "plt.plot(dims, collisions_RS, '-.g', lw=2, alpha=0.6, label='RS collisions')\n",
    "plt.plot(dims, collisions_simple, ':b', lw=2, alpha=0.8, label='simple collisions')\n",
    "plt.legend(loc='upper left', frameon=True)\n",
    "plt.xlabel('series\\' dimensions')\n",
    "plt.ylabel('number of collisions')\n",
    "plt.show()"
   ]
  },
  {
   "cell_type": "code",
   "execution_count": 126,
   "metadata": {},
   "outputs": [
    {
     "data": {
      "text/plain": [
       "[Guest Парамонов Виктор Алексеевич stays in room #133 from 29 to 28 April]"
      ]
     },
     "execution_count": 126,
     "metadata": {},
     "output_type": "execute_result"
    }
   ],
   "source": [
    "l_search_by_hash(hash_table(inputs_g_simple[5]), 15703020516107383520309989486465746758856309433381)"
   ]
  },
  {
   "cell_type": "code",
   "execution_count": 128,
   "metadata": {},
   "outputs": [
    {
     "data": {
      "text/plain": [
       "[Guest Селиванов Илья Александрович stays in room #137 from 18 to 17 April]"
      ]
     },
     "execution_count": 128,
     "metadata": {},
     "output_type": "execute_result"
    }
   ],
   "source": [
    "l_search_by_key(hash_table(inputs_g_simple[5]), 'Селиванов Илья Александрович', simple_hash)"
   ]
  },
  {
   "cell_type": "code",
   "execution_count": 155,
   "metadata": {},
   "outputs": [
    {
     "ename": "AttributeError",
     "evalue": "'list' object has no attribute 'lenght'",
     "output_type": "error",
     "traceback": [
      "\u001b[1;31m---------------------------------------------------------------------------\u001b[0m",
      "\u001b[1;31mAttributeError\u001b[0m                            Traceback (most recent call last)",
      "\u001b[1;32m<ipython-input-155-ace3254d1c12>\u001b[0m in \u001b[0;36m<module>\u001b[1;34m\u001b[0m\n\u001b[0;32m      1\u001b[0m \u001b[1;32mfor\u001b[0m \u001b[0mlinkedlist\u001b[0m \u001b[1;32min\u001b[0m \u001b[0mhash_table\u001b[0m\u001b[1;33m(\u001b[0m\u001b[0minputs_g_simple\u001b[0m\u001b[1;33m[\u001b[0m\u001b[1;36m9\u001b[0m\u001b[1;33m]\u001b[0m\u001b[1;33m)\u001b[0m\u001b[1;33m:\u001b[0m\u001b[1;33m\u001b[0m\u001b[1;33m\u001b[0m\u001b[0m\n\u001b[1;32m----> 2\u001b[1;33m     \u001b[1;32mif\u001b[0m \u001b[0mlinkedlist\u001b[0m\u001b[1;33m.\u001b[0m\u001b[0mlenght\u001b[0m\u001b[1;33m>\u001b[0m\u001b[1;36m1\u001b[0m\u001b[1;33m:\u001b[0m\u001b[1;33m\u001b[0m\u001b[1;33m\u001b[0m\u001b[0m\n\u001b[0m\u001b[0;32m      3\u001b[0m         \u001b[0mprint\u001b[0m\u001b[1;33m(\u001b[0m\u001b[0mlinkedlist\u001b[0m\u001b[1;33m)\u001b[0m\u001b[1;33m\u001b[0m\u001b[1;33m\u001b[0m\u001b[0m\n",
      "\u001b[1;31mAttributeError\u001b[0m: 'list' object has no attribute 'lenght'"
     ]
    }
   ],
   "source": [
    "for linkedlist in hash_table(inputs_g_simple[9]):\n",
    "    if linkedlist.lenght>1:\n",
    "        print(linkedlist)"
   ]
  },
  {
   "cell_type": "code",
   "execution_count": null,
   "metadata": {},
   "outputs": [],
   "source": []
  }
 ],
 "metadata": {
  "kernelspec": {
   "display_name": "Python 3",
   "language": "python",
   "name": "python3"
  },
  "language_info": {
   "codemirror_mode": {
    "name": "ipython",
    "version": 3
   },
   "file_extension": ".py",
   "mimetype": "text/x-python",
   "name": "python",
   "nbconvert_exporter": "python",
   "pygments_lexer": "ipython3",
   "version": "3.7.3"
  }
 },
 "nbformat": 4,
 "nbformat_minor": 2
}
